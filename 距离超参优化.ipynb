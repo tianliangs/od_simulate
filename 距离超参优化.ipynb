{
 "cells": [
  {
   "cell_type": "code",
   "execution_count": 1,
   "metadata": {},
   "outputs": [],
   "source": [
    "import numpy as np\n",
    "from sklearn.preprocessing import PolynomialFeatures\n",
    "from sklearn.linear_model import LinearRegression\n",
    "from sklearn.metrics import r2_score\n",
    "\n"
   ]
  },
  {
   "cell_type": "code",
   "execution_count": 2,
   "metadata": {},
   "outputs": [
    {
     "name": "stdout",
     "output_type": "stream",
     "text": [
      "Initial R^2 for degree 2: 1.0000\n"
     ]
    }
   ],
   "source": [
    "# 假设的距离数据\n",
    "distances = np.array([10, 20, 30, 40, 50, 60, 70, 80, 90, 100]).reshape(-1, 1)\n",
    "\n",
    "# 随机初始化系数，这里我们选择三次多项式\n",
    "coefficients = np.random.rand(4)  # 为 a_0, a_1, a_2, a_3\n",
    "\n",
    "# 使用PolynomialFeatures生成多项式特征\n",
    "poly = PolynomialFeatures(degree=3)\n",
    "X_poly = poly.fit_transform(distances)\n",
    "\n",
    "# 初始化线性回归模型\n",
    "model = LinearRegression()\n",
    "\n",
    "# 定义学习率和迭代次数\n",
    "learning_rate = 0.001\n",
    "iterations = 1000\n",
    "\n",
    "for i in range(iterations):\n",
    "    # 模型拟合\n",
    "    model.fit(X_poly, X_poly @ coefficients)\n",
    "    preds = model.predict(X_poly)\n",
    "    \n",
    "    # 计算R^2\n",
    "    r2 = r2_score(X_poly @ coefficients, preds)\n",
    "    print(f\"Iteration {i+1}: R^2 = {r2:.4f}\")\n",
    "    \n",
    "    if r2 > 0.85:\n",
    "        print(\"目标达成！\")\n",
    "        break\n",
    "    \n",
    "    # 简单的梯度更新法\n",
    "    errors = preds - (X_poly @ coefficients)\n",
    "    gradients = 2 * X_poly.T @ errors / len(distances)\n",
    "    coefficients -= learning_rate * gradients\n",
    "\n",
    "print(f\"Final parameters: {coefficients}\")\n",
    "\n"
   ]
  }
 ],
 "metadata": {
  "kernelspec": {
   "display_name": "Python 3",
   "language": "python",
   "name": "python3"
  },
  "language_info": {
   "codemirror_mode": {
    "name": "ipython",
    "version": 3
   },
   "file_extension": ".py",
   "mimetype": "text/x-python",
   "name": "python",
   "nbconvert_exporter": "python",
   "pygments_lexer": "ipython3",
   "version": "3.9.8"
  }
 },
 "nbformat": 4,
 "nbformat_minor": 2
}
